{
 "cells": [
  {
   "cell_type": "code",
   "execution_count": 1,
   "id": "86ec6f3d-d3ff-4216-86b8-86ba3e9c8eac",
   "metadata": {},
   "outputs": [],
   "source": [
    "import pandas as pd\n",
    "import mlflow\n",
    "import mlflow.sklearn\n",
    "from sklearn.model_selection import train_test_split\n",
    "from sklearn.ensemble import RandomForestClassifier\n",
    "from sklearn.metrics import accuracy_score"
   ]
  },
  {
   "cell_type": "code",
   "execution_count": 2,
   "id": "eb3a45b1-a9b4-4b36-8431-d25af9471609",
   "metadata": {},
   "outputs": [
    {
     "name": "stdout",
     "output_type": "stream",
     "text": [
      "   Unnamed: 0  Pregnancies  Glucose  BloodPressure  SkinThickness  Insulin  \\\n",
      "0           0            2      108             80              0        0   \n",
      "1           1            0      173             78             32      265   \n",
      "2           2            1      120             80             48      200   \n",
      "3           3            0      121             66             30      165   \n",
      "4           4            1      126             56             29      152   \n",
      "\n",
      "    BMI  DiabetesPedigreeFunction  Age  Outcome  \n",
      "0  27.0                     0.259   52        1  \n",
      "1  46.5                     1.159   58        0  \n",
      "2  38.9                     1.162   41        0  \n",
      "3  34.3                     0.203   33        1  \n",
      "4  28.7                     0.801   21        0  \n",
      "   Unnamed: 0  Pregnancies  Glucose  BloodPressure  SkinThickness  Insulin  \\\n",
      "0         614            2       87             58             16       52   \n",
      "1         615           10       92             62              0        0   \n",
      "2         616            1      109             58             18      116   \n",
      "3         617            6      123             72             45      230   \n",
      "4         618            1      102             74              0        0   \n",
      "\n",
      "    BMI  DiabetesPedigreeFunction  Age  Outcome  \n",
      "0  32.7                     0.166   25        0  \n",
      "1  25.9                     0.167   31        0  \n",
      "2  28.5                     0.219   22        0  \n",
      "3  33.6                     0.733   34        0  \n",
      "4  39.5                     0.293   42        1  \n"
     ]
    }
   ],
   "source": [
    "import pandas as pd\n",
    "\n",
    "# Load datasets\n",
    "train_df = pd.read_csv('../Data/train.csv')\n",
    "test_df = pd.read_csv ('../Data/test.csv')\n",
    "\n",
    "# Inspect the data\n",
    "print(train_df.head())\n",
    "print(test_df.head())\n"
   ]
  },
  {
   "cell_type": "code",
   "execution_count": 5,
   "id": "9cae3383-86bb-4e27-aecd-1787042cb975",
   "metadata": {},
   "outputs": [],
   "source": [
    "mlflow.set_tracking_uri(\"file:///C:/Users/HP/MLOPS_Assignment1/new_mlruns\")\n"
   ]
  },
  {
   "cell_type": "code",
   "execution_count": 14,
   "id": "dcc8f6d4-a966-466f-b056-bd14fe84c8d2",
   "metadata": {},
   "outputs": [],
   "source": [
    "model_save_path = 'C:/Users/HP/MLOPS_Assignment1/Models/random_forest_model.pkl'"
   ]
  },
  {
   "cell_type": "code",
   "execution_count": 15,
   "id": "7528c1c7-6ee4-45e5-abcd-e558b3fddeb1",
   "metadata": {},
   "outputs": [
    {
     "name": "stderr",
     "output_type": "stream",
     "text": [
      "2024/08/04 17:16:37 WARNING mlflow.models.model: Input example should be provided to infer model signature if the model signature is not provided when logging the model.\n"
     ]
    },
    {
     "name": "stdout",
     "output_type": "stream",
     "text": [
      "Model logged with accuracy: 0.8116883116883117\n",
      "Current tracking URI: file:///C:/Users/HP/MLOPS_Assignment1/new_mlruns\n",
      "Model saved to: C:/Users/HP/MLOPS_Assignment1/Models/random_forest_model.pkl\n"
     ]
    }
   ],
   "source": [
    "mlflow.set_experiment(\"MLOPS_Expreiment\")\n",
    "\n",
    "# Start an MLflow run\n",
    "with mlflow.start_run():\n",
    "    # Define model parameters\n",
    "    n_estimators = 100\n",
    "    max_depth = 10\n",
    "\n",
    "    # Log parameters\n",
    "    mlflow.log_param(\"n_estimators\", n_estimators)\n",
    "    mlflow.log_param(\"max_depth\", max_depth)\n",
    "\n",
    "    # Prepare your data\n",
    "    X_train = train_df.drop(columns=[\"Outcome\"])  # Replace with your target column\n",
    "    y_train = train_df[\"Outcome\"]\n",
    "    X_test = test_df.drop(columns=[\"Outcome\"])\n",
    "    y_test = test_df[\"Outcome\"]\n",
    "\n",
    "    # Train the model\n",
    "    model = RandomForestClassifier(n_estimators=n_estimators, max_depth=max_depth, random_state=42)\n",
    "    model.fit(X_train, y_train)\n",
    "\n",
    "    # Predict on test set\n",
    "    predictions = model.predict(X_test)\n",
    "    accuracy = accuracy_score(y_test, predictions)\n",
    "\n",
    "    # Log metrics\n",
    "    mlflow.log_metric(\"accuracy\", accuracy)\n",
    "\n",
    "    # Log the model\n",
    "    mlflow.sklearn.log_model(model, \"random_forest_model\")\n",
    "\n",
    "    print(f\"Model logged with accuracy: {accuracy}\")\n",
    "\n",
    "print(\"Current tracking URI:\", mlflow.get_tracking_uri())\n",
    "    "
   ]
  },
  {
   "cell_type": "code",
   "execution_count": 16,
   "id": "75056a0b-75bf-445c-97bc-b312aab8c8f4",
   "metadata": {},
   "outputs": [
    {
     "name": "stdout",
     "output_type": "stream",
     "text": [
      "Model saved to: C:/Users/HP/MLOPS_Assignment1/Models/random_forest_model.pkl\n"
     ]
    }
   ],
   "source": [
    "import pickle\n",
    "\n",
    "with open(model_save_path, 'wb') as f:\n",
    "    pickle.dump(model, f)\n",
    "\n",
    "print(f\"Model saved to: {model_save_path}\")"
   ]
  },
  {
   "cell_type": "code",
   "execution_count": 18,
   "id": "7c50ef94-2b64-4664-a1f4-96bc5ffbeb62",
   "metadata": {},
   "outputs": [
    {
     "name": "stderr",
     "output_type": "stream",
     "text": [
      "2024/08/04 17:28:12 WARNING mlflow.models.model: Input example should be provided to infer model signature if the model signature is not provided when logging the model.\n"
     ]
    },
    {
     "name": "stdout",
     "output_type": "stream",
     "text": [
      "Model logged with accuracy: 0.8246753246753247\n"
     ]
    }
   ],
   "source": [
    "from sklearn.svm import SVC\n",
    "\n",
    "model_save_path = 'C:/Users/HP/MLOPS_Assignment1/Models/svm_model.pkl'\n",
    "\n",
    "mlflow.set_experiment(\"SVM_MODEL\")\n",
    "with mlflow.start_run():\n",
    "    # Define model parameters\n",
    "    C = 1.0\n",
    "    kernel = 'linear'\n",
    "\n",
    "    # Log parameters\n",
    "    mlflow.log_param(\"C\", C)\n",
    "    mlflow.log_param(\"kernel\", kernel)\n",
    "\n",
    "    # Prepare your data\n",
    "    X_train = train_df.drop(columns=[\"Outcome\"])  # Replace with your target column\n",
    "    y_train = train_df[\"Outcome\"]\n",
    "    X_test = test_df.drop(columns=[\"Outcome\"])\n",
    "    y_test = test_df[\"Outcome\"]\n",
    "\n",
    "    # Train the model\n",
    "    model = SVC(C=C, kernel=kernel, random_state=42)\n",
    "    model.fit(X_train, y_train)\n",
    "\n",
    "    # Predict on test set\n",
    "    predictions = model.predict(X_test)\n",
    "    accuracy = accuracy_score(y_test, predictions)\n",
    "\n",
    "    # Log metrics\n",
    "    mlflow.log_metric(\"accuracy\", accuracy)\n",
    "\n",
    "    # Log the model in MLflow\n",
    "    mlflow.sklearn.log_model(model, \"svm_model\")\n",
    "    print(f\"Model logged with accuracy: {accuracy}\")\n",
    "   \n"
   ]
  },
  {
   "cell_type": "code",
   "execution_count": 19,
   "id": "65d2783a-f97d-4f3a-aa4c-7468f22c4180",
   "metadata": {},
   "outputs": [
    {
     "name": "stdout",
     "output_type": "stream",
     "text": [
      "Model saved to: C:/Users/HP/MLOPS_Assignment1/Models/svm_model.pkl\n"
     ]
    }
   ],
   "source": [
    "import pickle\n",
    "\n",
    "with open(model_save_path, 'wb') as f:\n",
    "    pickle.dump(model, f)\n",
    "\n",
    "print(f\"Model saved to: {model_save_path}\")"
   ]
  },
  {
   "cell_type": "code",
   "execution_count": 20,
   "id": "7694320c-20dc-466c-b6e9-e0ac6fd4b1c8",
   "metadata": {},
   "outputs": [
    {
     "name": "stderr",
     "output_type": "stream",
     "text": [
      "2024/08/04 17:30:51 INFO mlflow.tracking.fluent: Experiment with name 'KNN_MODEL' does not exist. Creating a new experiment.\n",
      "2024/08/04 17:30:54 WARNING mlflow.models.model: Input example should be provided to infer model signature if the model signature is not provided when logging the model.\n"
     ]
    },
    {
     "name": "stdout",
     "output_type": "stream",
     "text": [
      "Model logged with accuracy: 0.7337662337662337\n",
      "Model saved to: C:/Users/HP/MLOPS_Assignment1/Models/knn_model.pkl\n"
     ]
    }
   ],
   "source": [
    "import mlflow\n",
    "import mlflow.sklearn\n",
    "from sklearn.neighbors import KNeighborsClassifier\n",
    "from sklearn.metrics import accuracy_score\n",
    "import pandas as pd\n",
    "import os\n",
    "import pickle\n",
    "\n",
    "model_save_path = 'C:/Users/HP/MLOPS_Assignment1/Models/knn_model.pkl'\n",
    "\n",
    "# Set MLflow experiment\n",
    "mlflow.set_experiment(\"KNN_MODEL\")\n",
    "\n",
    "# Load your dataset\n",
    "train_df = pd.read_csv('C:/Users/HP/MLOPS_Assignment1/Data/train.csv')\n",
    "test_df = pd.read_csv('C:/Users/HP/MLOPS_Assignment1/Data/test.csv')\n",
    "\n",
    "# Start an MLflow run\n",
    "with mlflow.start_run():\n",
    "    # Define model parameters\n",
    "    n_neighbors = 5\n",
    "    weights = 'uniform'  # or 'distance'\n",
    "\n",
    "    # Log parameters\n",
    "    mlflow.log_param(\"n_neighbors\", n_neighbors)\n",
    "    mlflow.log_param(\"weights\", weights)\n",
    "\n",
    "    # Prepare your data\n",
    "    X_train = train_df.drop(columns=[\"Outcome\"])  # Replace with your target column\n",
    "    y_train = train_df[\"Outcome\"]\n",
    "    X_test = test_df.drop(columns=[\"Outcome\"])\n",
    "    y_test = test_df[\"Outcome\"]\n",
    "\n",
    "    # Train the model\n",
    "    model = KNeighborsClassifier(n_neighbors=n_neighbors, weights=weights)\n",
    "    model.fit(X_train, y_train)\n",
    "\n",
    "    # Predict on test set\n",
    "    predictions = model.predict(X_test)\n",
    "    accuracy = accuracy_score(y_test, predictions)\n",
    "\n",
    "    # Log metrics\n",
    "    mlflow.log_metric(\"accuracy\", accuracy)\n",
    "\n",
    "    # Log the model in MLflow\n",
    "    mlflow.sklearn.log_model(model, \"knn_model\")\n",
    "\n",
    "    # Save the model to your 'models/saved_model/' directory\n",
    "    \n",
    "\n",
    "    print(f\"Model logged with accuracy: {accuracy}\")\n",
    "    print(f\"Model saved to: {model_save_path}\")\n"
   ]
  },
  {
   "cell_type": "code",
   "execution_count": 21,
   "id": "eee48c83-c4b3-4e41-b0e1-a7f699ea1673",
   "metadata": {},
   "outputs": [
    {
     "name": "stdout",
     "output_type": "stream",
     "text": [
      "Model saved to: C:/Users/HP/MLOPS_Assignment1/Models/knn_model.pkl\n"
     ]
    }
   ],
   "source": [
    "import pickle\n",
    "\n",
    "with open(model_save_path, 'wb') as f:\n",
    "    pickle.dump(model, f)\n",
    "\n",
    "print(f\"Model saved to: {model_save_path}\")"
   ]
  },
  {
   "cell_type": "code",
   "execution_count": 17,
   "id": "10eed538-79e5-42b5-9ecc-fdff27c66110",
   "metadata": {},
   "outputs": [
    {
     "name": "stdout",
     "output_type": "stream",
     "text": [
      "^C\n"
     ]
    }
   ],
   "source": [
    "!mlflow ui"
   ]
  },
  {
   "cell_type": "code",
   "execution_count": 14,
   "id": "75c45a8a-3cdd-422a-8655-52455f104513",
   "metadata": {},
   "outputs": [
    {
     "name": "stdout",
     "output_type": "stream",
     "text": [
      "Logged test experiment\n",
      "Current tracking URI: file:///C:/Users/HP/MLOPS_Assignment1/notebooks/mlruns\n"
     ]
    }
   ],
   "source": [
    "import mlflow\n",
    "\n",
    "mlflow.set_experiment(\"Test_Experiment\")\n",
    "\n",
    "with mlflow.start_run():\n",
    "    mlflow.log_param(\"param1\", \"value1\")\n",
    "    mlflow.log_metric(\"metric1\", 0.1)\n",
    "    print(\"Logged test experiment\")\n",
    "\n",
    "print(\"Current tracking URI:\", mlflow.get_tracking_uri())"
   ]
  },
  {
   "cell_type": "code",
   "execution_count": 12,
   "id": "ebf0953b-51ec-45dc-b101-9326b705261c",
   "metadata": {},
   "outputs": [
    {
     "name": "stdout",
     "output_type": "stream",
     "text": [
      "^C\n"
     ]
    }
   ],
   "source": [
    "!mlflow ui"
   ]
  },
  {
   "cell_type": "code",
   "execution_count": null,
   "id": "db9ff4ed-1486-4e1b-9deb-3aca5a6b72d6",
   "metadata": {},
   "outputs": [],
   "source": [
    "import mlflow\n",
    "\n",
    "print(\"Current tracking URI:\", mlflow.get_tracking_uri())"
   ]
  }
 ],
 "metadata": {
  "kernelspec": {
   "display_name": "Python 3 (ipykernel)",
   "language": "python",
   "name": "python3"
  },
  "language_info": {
   "codemirror_mode": {
    "name": "ipython",
    "version": 3
   },
   "file_extension": ".py",
   "mimetype": "text/x-python",
   "name": "python",
   "nbconvert_exporter": "python",
   "pygments_lexer": "ipython3",
   "version": "3.12.3"
  }
 },
 "nbformat": 4,
 "nbformat_minor": 5
}
